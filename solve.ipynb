{
 "cells": [
  {
   "cell_type": "code",
   "execution_count": 1,
   "metadata": {},
   "outputs": [
    {
     "data": {
      "text/plain": [
       "Stochaskell, version 0.1.0\n",
       "Copyright (C) 2015-2019 David A Roberts\n",
       "This program comes with ABSOLUTELY NO WARRANTY.\n",
       "This is free software, and you are welcome to redistribute it\n",
       "under certain conditions; see the LICENSE for details.\n",
       "\n",
       "Using installation directory at \n",
       "  /home/jovyan/stochaskell"
      ]
     },
     "metadata": {},
     "output_type": "display_data"
    }
   ],
   "source": [
    "{-# LANGUAGE FlexibleContexts, MonadComprehensions, NoImplicitPrelude, RebindableSyntax #-}\n",
    "import Language.Stochaskell\n",
    "stochaskell"
   ]
  },
  {
   "cell_type": "code",
   "execution_count": 2,
   "metadata": {},
   "outputs": [
    {
     "data": {
      "text/plain": [
       "z :=\n",
       "  let v_0_0 = y - 1.0 :: R\n",
       "      v_0_1 = v_0_0 / 2.0 :: R\n",
       "      v_0_2 = log v_0_1 :: R\n",
       "   in v_0_2"
      ]
     },
     "metadata": {},
     "output_type": "display_data"
    }
   ],
   "source": [
    "let [y,z] = symbols \"yz\" :: [R]\n",
    " in solve (2 * exp z + 1) y"
   ]
  },
  {
   "cell_type": "code",
   "execution_count": 3,
   "metadata": {},
   "outputs": [
    {
     "data": {
      "text/plain": [
       "a :=\n",
       "  let v_0_0 = x / 2.0 :: R\n",
       "   in v_0_0\n",
       "b :=\n",
       "  let v_0_0 = x / 2.0 :: R\n",
       "      v_0_1 = y - v_0_0 :: R\n",
       "   in v_0_1"
      ]
     },
     "metadata": {},
     "output_type": "display_data"
    }
   ],
   "source": [
    "let [a,b,x,y] = symbols \"abxy\" :: [R]\n",
    " in solve (2 * a, a + b) (x, y)"
   ]
  },
  {
   "cell_type": "code",
   "execution_count": 4,
   "metadata": {},
   "outputs": [],
   "source": [
    "p :: P (R,R)\n",
    "p = do\n",
    "  a <- normal 0 1\n",
    "  b <- normal 0 1\n",
    "  return (2 * a, a + b)"
   ]
  },
  {
   "cell_type": "code",
   "execution_count": 5,
   "metadata": {},
   "outputs": [
    {
     "data": {
      "text/plain": [
       "let v_0_0 = getExternal x_show_0_0 :: R\n",
       "    v_0_1 = getExternal x_show_0_1 :: R\n",
       "    v_0_2 = 2.0 * x_show_0_0 :: R\n",
       "    v_0_3 = x_show_0_0 + x_show_0_1 :: R\n",
       " in do x_show_0_0 <- normal 0.0 1.0 :: P R\n",
       "       x_show_0_1 <- normal 0.0 1.0 :: P R\n",
       "       return [v_0_2,v_0_3]"
      ]
     },
     "metadata": {},
     "output_type": "display_data"
    }
   ],
   "source": [
    "print p"
   ]
  },
  {
   "cell_type": "code",
   "execution_count": 6,
   "metadata": {},
   "outputs": [
    {
     "data": {
      "text/plain": [
       "x_solve_0_0 :=\n",
       "  let v_0_0 = x / 2.0 :: R\n",
       "   in v_0_0\n",
       "x_solve_0_1 :=\n",
       "  let v_0_0 = x / 2.0 :: R\n",
       "      v_0_1 = y - v_0_0 :: R\n",
       "   in v_0_1"
      ]
     },
     "metadata": {},
     "output_type": "display_data"
    }
   ],
   "source": [
    "let [x,y] = symbols \"xy\"\n",
    " in solveP p (x,y)"
   ]
  },
  {
   "cell_type": "code",
   "execution_count": 7,
   "metadata": {},
   "outputs": [
    {
     "data": {
      "text/plain": [
       "let v_0_0 = getExternal x_show_0_0 :: R\n",
       "    v_0_1 = getExternal x_show_0_1 :: R\n",
       "    v_0_2 = getExternal x_show_0_2 :: Z\n",
       "    v_0_3 = negate x_show_0_0 :: R\n",
       "    v_0_4 = negate x_show_0_1 :: R\n",
       "    v_0_5 = case x_show_0_2 of\n",
       "      1 ->\n",
       "        [1,x_show_0_0]\n",
       "      2 ->\n",
       "        [-1,v_0_3]\n",
       "      3 ->\n",
       "        [2,x_show_0_1]\n",
       "      4 ->\n",
       "        [-2,v_0_4]\n",
       " in do x_show_0_0 <- normal 0.0 1.0 :: P R\n",
       "       x_show_0_1 <- normal 0.0 1.0 :: P R\n",
       "       x_show_0_2 <- pmf [0.1,0.2,0.3,0.4] :: P Z\n",
       "       return [v_0_5.0_0,v_0_5.0_1]"
      ]
     },
     "metadata": {},
     "output_type": "display_data"
    }
   ],
   "source": [
    "mix :: P (Z,R)\n",
    "mix = do\n",
    "  a <- normal 0 1\n",
    "  b <- normal 0 1\n",
    "  k <- pmf (blockVector [0.1, 0.2, 0.3, 0.4])\n",
    "  return $ caseZ k [(1, a), (-1, -a), (2, b), (-2, -b)]\n",
    "\n",
    "print mix"
   ]
  },
  {
   "cell_type": "code",
   "execution_count": 8,
   "metadata": {},
   "outputs": [
    {
     "data": {
      "text/plain": [
       "let v_0_0 = getExternal x_show_0_0 :: R\n",
       "    v_0_1 = getExternal x_show_0_1 :: R\n",
       "    v_0_2 = getExternal x_show_0_2 :: Z\n",
       "    v_0_3 = negate x_show_0_0 :: R\n",
       "    v_0_4 = negate x_show_0_1 :: R\n",
       "    v_0_5 = case x_show_0_2 of\n",
       "      1 ->\n",
       "        [1,x_show_0_0]\n",
       "      2 ->\n",
       "        [-1,v_0_3]\n",
       "      3 ->\n",
       "        [2,x_show_0_1]\n",
       "      4 ->\n",
       "        [-2,v_0_4]\n",
       " in do x_show_0_0 <- normal 0.0 1.0 :: P R\n",
       "       x_show_0_1 <- normal 0.0 1.0 :: P R\n",
       "       x_show_0_2 <- pmf [0.1,0.2,0.3,0.4] :: P Z\n",
       "       return [v_0_5.0_0,v_0_5.0_1]"
      ]
     },
     "metadata": {},
     "output_type": "display_data"
    }
   ],
   "source": [
    "mix :: P (Z,R)\n",
    "mix = do\n",
    "  a <- normal 0 1\n",
    "  b <- normal 0 1\n",
    "  mixture' [(0.1, return ( 1, a))\n",
    "           ,(0.2, return (-1,-a))\n",
    "           ,(0.3, return ( 2, b))\n",
    "           ,(0.4, return (-2,-b))]\n",
    "\n",
    "print mix"
   ]
  },
  {
   "cell_type": "code",
   "execution_count": 9,
   "metadata": {},
   "outputs": [
    {
     "data": {
      "text/plain": [
       "WARN ignoring constraint LVar x_solve_0_0\n",
       "WARN ignoring constraint LVar x_solve_0_0\n",
       "WARN ignoring constraint LVar x_solve_0_1\n",
       "WARN ignoring constraint LVar x_solve_0_1\n",
       "x_solve_0_0 :=\n",
       "  let v_0_0 = getExternal x_solve_0_2 :: Z\n",
       "      v_0_1 = x_solve_0_2 == 1 :: B\n",
       "      v_0_2 = x_solve_0_2 == 2 :: B\n",
       "      v_0_3 = negate y :: R\n",
       "   in { v_0_1 => y, v_0_2 => v_0_3 }\n",
       "x_solve_0_1 :=\n",
       "  let v_0_0 = getExternal x_solve_0_2 :: Z\n",
       "      v_0_1 = x_solve_0_2 == 3 :: B\n",
       "      v_0_2 = x_solve_0_2 == 4 :: B\n",
       "      v_0_3 = negate y :: R\n",
       "   in { v_0_1 => y, v_0_2 => v_0_3 }\n",
       "x_solve_0_2 :=\n",
       "  let v_0_0 = x == -2 :: B\n",
       "      v_0_1 = x == -1 :: B\n",
       "      v_0_2 = not v_0_1 :: B\n",
       "      v_0_3 = x == 1 :: B\n",
       "      v_0_4 = not v_0_3 :: B\n",
       "      v_0_5 = x == 2 :: B\n",
       "      v_0_6 = not v_0_5 :: B\n",
       "      v_0_7 = &&s v_0_0 v_0_2 v_0_4 v_0_6 :: B\n",
       "      v_0_8 = not v_0_0 :: B\n",
       "      v_0_9 = &&s v_0_1 v_0_4 v_0_6 v_0_8 :: B\n",
       "      v_0_10 = &&s v_0_2 v_0_3 v_0_6 v_0_8 :: B\n",
       "      v_0_11 = &&s v_0_2 v_0_4 v_0_5 v_0_8 :: B\n",
       "   in { v_0_7 => 4, v_0_9 => 2, v_0_10 => 1, v_0_11 => 3 }\n",
       "{let v_0_0 = x == -2 :: B\n",
       " in v_0_0} LVar x_solve_0_2 :=\n",
       "  4\n",
       "{let v_0_0 = x == -1 :: B\n",
       " in v_0_0} LVar x_solve_0_2 :=\n",
       "  2\n",
       "{let v_0_0 = x == 1 :: B\n",
       " in v_0_0} LVar x_solve_0_2 :=\n",
       "  1\n",
       "{let v_0_0 = x == 2 :: B\n",
       " in v_0_0} LVar x_solve_0_2 :=\n",
       "  3\n",
       "{let v_0_0 = getExternal x_solve_0_2 :: Z\n",
       "    v_0_1 = x_solve_0_2 == 1 :: B\n",
       " in v_0_1} LVar x_solve_0_0 :=\n",
       "  y\n",
       "{let v_0_0 = getExternal x_solve_0_2 :: Z\n",
       "    v_0_1 = x_solve_0_2 == 2 :: B\n",
       " in v_0_1} LVar x_solve_0_0 :=\n",
       "  let v_0_0 = negate y :: R\n",
       "   in v_0_0\n",
       "{let v_0_0 = getExternal x_solve_0_2 :: Z\n",
       "    v_0_1 = x_solve_0_2 == 3 :: B\n",
       " in v_0_1} LVar x_solve_0_1 :=\n",
       "  y\n",
       "{let v_0_0 = getExternal x_solve_0_2 :: Z\n",
       "    v_0_1 = x_solve_0_2 == 4 :: B\n",
       " in v_0_1} LVar x_solve_0_1 :=\n",
       "  let v_0_0 = negate y :: R\n",
       "   in v_0_0\n",
       "{let v_0_0 = getExternal x_solve_0_2 :: Z\n",
       "    v_0_1 = x_solve_0_2 == 4 :: B\n",
       " in v_0_1} LConstr let v_0_0 = x == -2 :: B\n",
       " in v_0_0 :=\n",
       "  1\n",
       "{let v_0_0 = getExternal x_solve_0_2 :: Z\n",
       "    v_0_1 = x_solve_0_2 == 2 :: B\n",
       " in v_0_1} LConstr let v_0_0 = x == -1 :: B\n",
       " in v_0_0 :=\n",
       "  1\n",
       "{let v_0_0 = getExternal x_solve_0_2 :: Z\n",
       "    v_0_1 = x_solve_0_2 == 1 :: B\n",
       " in v_0_1} LConstr let v_0_0 = x == 1 :: B\n",
       " in v_0_0 :=\n",
       "  1\n",
       "{let v_0_0 = getExternal x_solve_0_2 :: Z\n",
       "    v_0_1 = x_solve_0_2 == 3 :: B\n",
       " in v_0_1} LConstr let v_0_0 = x == 2 :: B\n",
       " in v_0_0 :=\n",
       "  1"
      ]
     },
     "metadata": {},
     "output_type": "display_data"
    }
   ],
   "source": [
    "let x = symbol \"x\" :: Z\n",
    "    y = symbol \"y\" :: R\n",
    " in solveP mix (x,y)"
   ]
  },
  {
   "cell_type": "code",
   "execution_count": 10,
   "metadata": {},
   "outputs": [
    {
     "data": {
      "text/plain": [
       "WARN assuming x = y except at inserted index j\n",
       "j :=\n",
       "  let v_0_0 = vectorSize x :: Z\n",
       "      v_0_1 = 1 + v_0_0 :: Z\n",
       "      v_0_2 = \n",
       "        [ i_1_1\n",
       "        | i_1_1 <- 1...v_0_0 ] :: ZVec\n",
       "      v_0_3 = foldr v_0_1 v_0_2 $ \\i_1_11 i_1_12 ->\n",
       "        let v_1_0 = x!i_1_11 /= y!i_1_11 :: B\n",
       "            v_1_1 = ifThenElse v_1_0 i_1_11 i_1_12 :: Z\n",
       "         in v_1_1\n",
       "   in v_0_3\n",
       "u :=\n",
       "  let v_0_0 = vectorSize x :: Z\n",
       "      v_0_1 = 1 + v_0_0 :: Z\n",
       "      v_0_2 = \n",
       "        [ i_1_1\n",
       "        | i_1_1 <- 1...v_0_0 ] :: ZVec\n",
       "      v_0_3 = foldr v_0_1 v_0_2 $ \\i_1_11 i_1_12 ->\n",
       "        let v_1_0 = x!i_1_11 /= y!i_1_11 :: B\n",
       "            v_1_1 = ifThenElse v_1_0 i_1_11 i_1_12 :: Z\n",
       "         in v_1_1\n",
       "      v_0_4 = log y!v_0_3 :: R\n",
       "   in v_0_4"
      ]
     },
     "metadata": {},
     "output_type": "display_data"
    }
   ],
   "source": [
    "let x = symbol \"x\" :: RVec\n",
    "    y = symbol \"y\" :: RVec\n",
    "    u = symbol \"u\" :: R\n",
    "    j = symbol \"j\" :: Z\n",
    " in solve (x `insertAt` (j, exp u)) y"
   ]
  },
  {
   "cell_type": "code",
   "execution_count": 11,
   "metadata": {},
   "outputs": [
    {
     "data": {
      "text/plain": [
       "let v_0_0 = z ** 2.0 :: R\n",
       "    v_0_1 = eye 1 :: RMat\n",
       "    v_0_2 = 2.0 * v_0_1 :: RMat\n",
       "    v_0_3 = v_0_2 / z :: RMat\n",
       "    v_0_4 = v_0_0 * v_0_3 :: RMat\n",
       " in v_0_4"
      ]
     },
     "metadata": {},
     "output_type": "display_data"
    }
   ],
   "source": [
    "let z = symbol \"z\" :: R\n",
    " in (z**2) `d` z"
   ]
  },
  {
   "cell_type": "code",
   "execution_count": 12,
   "metadata": {},
   "outputs": [
    {
     "data": {
      "text/plain": [
       "let v_0_0 = vectorSize x :: Z\n",
       "    v_0_1 = eye v_0_0 :: RMat\n",
       "    v_0_2 = A <> v_0_1 :: RMat\n",
       " in v_0_2"
      ]
     },
     "metadata": {},
     "output_type": "display_data"
    }
   ],
   "source": [
    "let a = constSymbol \"a\" :: RMat\n",
    "    x = symbol \"x\" :: RVec\n",
    " in (a #> x) `d` x"
   ]
  },
  {
   "cell_type": "code",
   "execution_count": 13,
   "metadata": {},
   "outputs": [
    {
     "data": {
      "text/plain": [
       "let v_0_0 = eye 1 :: RMat\n",
       "    v_0_1 = 2.0 * v_0_0 :: RMat\n",
       "    v_0_2 = v_0_0 * y :: RMat\n",
       "    v_0_3 = x * v_0_0 :: RMat\n",
       " in block[[v_0_0,v_0_1],[v_0_2,v_0_3]]"
      ]
     },
     "metadata": {},
     "output_type": "display_data"
    }
   ],
   "source": [
    "let [x,y] = symbols \"xy\" :: [R]\n",
    " in (x+2*y, x*y) `d` (x,y)"
   ]
  },
  {
   "cell_type": "code",
   "execution_count": 14,
   "metadata": {},
   "outputs": [],
   "source": [
    "p :: R -> P R\n",
    "p c = do\n",
    "  z <- normal 0 1\n",
    "  return (c*z + 1)"
   ]
  },
  {
   "cell_type": "code",
   "execution_count": 15,
   "metadata": {},
   "outputs": [
    {
     "data": {
      "text/plain": [
       "let v_0_0 = y - 1.0 :: R\n",
       "    v_0_1 = v_0_0 / C :: R\n",
       "    v_0_2 = normal_lpdf v_0_1 0.0 1.0 :: R\n",
       "    v_0_3 = log C :: R\n",
       "    v_0_4 = v_0_2 - v_0_3 :: R\n",
       " in v_0_4"
      ]
     },
     "metadata": {},
     "output_type": "display_data"
    }
   ],
   "source": [
    "let c = constSymbol \"c\"\n",
    "    y = symbol \"y\"\n",
    " in p c `lpdf` y"
   ]
  },
  {
   "cell_type": "code",
   "execution_count": 16,
   "metadata": {},
   "outputs": [],
   "source": [
    "evenOrder :: P RVec\n",
    "evenOrder = do\n",
    "  x <- orderedSample 21 (uniform 0 1) :: P RVec\n",
    "  let y = vector [ x!(2*i) | i <- 1...10 ]\n",
    "  return y"
   ]
  },
  {
   "cell_type": "code",
   "execution_count": 17,
   "metadata": {},
   "outputs": [
    {
     "data": {
      "text/plain": [
       "let v_0_0 = uniform_cdf v!1 0.0 1.0 :: R\n",
       "    v_0_1 = log v_0_0 :: R\n",
       "    v_0_2 = \n",
       "      [ let v_1_0 = 1 + i_1_1 :: Z\n",
       "            v_1_1 = uniform_cdf v!v_1_0 0.0 1.0 :: R\n",
       "            v_1_2 = uniform_cdf v!i_1_1 0.0 1.0 :: R\n",
       "            v_1_3 = v_1_1 - v_1_2 :: R\n",
       "            v_1_4 = log v_1_3 :: R\n",
       "            v_1_5 = 2 * v_1_0 :: Z\n",
       "            v_1_6 = 2 * i_1_1 :: Z\n",
       "            v_1_7 = v_1_5 - v_1_6 :: Z\n",
       "            v_1_8 = v_1_7 - 1 :: Z\n",
       "            v_1_9 = v_1_4 * v_1_8 :: R\n",
       "            v_1_10 = logFactorial v_1_8 :: R\n",
       "            v_1_11 = v_1_9 - v_1_10 :: R\n",
       "         in v_1_11\n",
       "      | i_1_1 <- 1...9 ] :: RVec\n",
       "    v_0_3 = foldl 0.0 v_0_2 $ \\i_1_12 i_1_11 ->\n",
       "      let v_1_0 = i_1_11 + i_1_12 :: R\n",
       "       in v_1_0\n",
       "    v_0_4 = uniform_cdf v!10 0.0 1.0 :: R\n",
       "    v_0_5 = 1.0 - v_0_4 :: R\n",
       "    v_0_6 = log v_0_5 :: R\n",
       "    v_0_7 = \n",
       "      [ let v_1_0 = uniform_lpdf v!i_1_1 0.0 1.0 :: R\n",
       "         in v_1_0\n",
       "      | i_1_1 <- 1...10 ] :: RVec\n",
       "    v_0_8 = foldl 0.0 v_0_7 $ \\i_1_12 i_1_11 ->\n",
       "      let v_1_0 = i_1_11 + i_1_12 :: R\n",
       "       in v_1_0\n",
       "    v_0_9 = +s v_0_1 v_0_3 v_0_6 v_0_8 :: R\n",
       "    v_0_10 = \n",
       "      [ let v_1_0 = 2 * i_1_1 :: Z\n",
       "            v_1_1 = \n",
       "              [ let v_2_0 = i_2_1 == v_1_0 :: B\n",
       "                    v_2_1 = ifThenElse v_2_0 1.0 0.0 :: R\n",
       "                 in v_2_1\n",
       "              | i_2_1 <- 1...10 ] :: RVec\n",
       "            v_1_2 = asRow v_1_1 :: RMat\n",
       "         in v_1_2\n",
       "      | i_1_1 <- 1...10 ] :: Array [(1,10)] RMat\n",
       "    v_0_11 = log_det v_0_10 :: RMat\n",
       "    v_0_12 = v_0_9 - v_0_11 :: RMat\n",
       " in v_0_12"
      ]
     },
     "metadata": {},
     "output_type": "display_data"
    }
   ],
   "source": [
    "evenOrder `lpdf` symbol \"v\""
   ]
  }
 ],
 "metadata": {
  "kernelspec": {
   "display_name": "Haskell",
   "language": "haskell",
   "name": "haskell"
  },
  "language_info": {
   "codemirror_mode": "ihaskell",
   "file_extension": ".hs",
   "name": "haskell",
   "pygments_lexer": "Haskell",
   "version": "8.6.5"
  }
 },
 "nbformat": 4,
 "nbformat_minor": 2
}

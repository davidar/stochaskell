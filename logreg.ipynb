{
 "cells": [
  {
   "cell_type": "code",
   "execution_count": 1,
   "metadata": {},
   "outputs": [],
   "source": [
    ":set -XFlexibleContexts -XMonadComprehensions -XNoImplicitPrelude -XRebindableSyntax\n",
    "import Language.Stochaskell\n",
    "import System.Directory\n",
    "setCurrentDirectory \"stochaskell\"\n",
    "createDirectoryIfMissing True \"cache/stan\""
   ]
  },
  {
   "cell_type": "code",
   "execution_count": 2,
   "metadata": {},
   "outputs": [],
   "source": [
    "logreg :: Z -> Z -> P (RMat,RVec,R,BVec)\n",
    "logreg n d = do\n",
    "  x <- uniforms (matrix [ -10000 | i <- 1...n, j <- 1...d ])\n",
    "                (matrix [  10000 | i <- 1...n, j <- 1...d ])\n",
    "  w <- normals (vector [ 0 | j <- 1...d ]) (vector [ 3 | j <- 1...d ])\n",
    "  b <- normal 0 3\n",
    "  let z = (x #> w) + cast b\n",
    "  y <- bernoulliLogits z\n",
    "  return (x,w,b,y)"
   ]
  },
  {
   "cell_type": "code",
   "execution_count": 3,
   "metadata": {},
   "outputs": [
    {
     "data": {
      "text/plain": [
       "([0.907666841609812,1.720454663391033],-4.218830747430737)"
      ]
     },
     "metadata": {},
     "output_type": "display_data"
    }
   ],
   "source": [
    "let n = 1000; d = 2\n",
    "(xData,wTrue,bTrue,yData) <- simulate (logreg n d)\n",
    "(wTrue,bTrue)"
   ]
  },
  {
   "cell_type": "code",
   "execution_count": 4,
   "metadata": {},
   "outputs": [
    {
     "data": {
      "text/plain": [
       "--- Generating Stan code ---\n",
       "data {\n",
       "  matrix[1000,2] x_stan_0_0;\n",
       "  \n",
       "  \n",
       "  int<lower=0,upper=1> x_stan_0_3[1000];\n",
       "}\n",
       "parameters {\n",
       "  \n",
       "  vector[2] x_stan_0_1;\n",
       "  real x_stan_0_2;\n",
       "  \n",
       "}\n",
       "model {\n",
       "  \n",
       "  \n",
       "  \n",
       "  vector[1000] v_0_3;\n",
       "  vector[1000] v_0_4;\n",
       "  vector[2] v_0_5;\n",
       "  vector[2] v_0_6;\n",
       "  \n",
       "  \n",
       "  \n",
       "  \n",
       "  \n",
       "  v_0_3 = to_matrix(x_stan_0_0) * to_vector(x_stan_0_1);\n",
       "  v_0_4 = x_stan_0_2 + v_0_3;\n",
       "  for (i_1_1 in 1:2) {\n",
       "  \n",
       "    v_0_5[i_1_1] = 0;\n",
       "  }\n",
       "  for (i_1_1 in 1:2) {\n",
       "  \n",
       "    v_0_6[i_1_1] = 3;\n",
       "  }\n",
       "  \n",
       "  \n",
       "\n",
       "  \n",
       "  x_stan_0_1 ~ normal(v_0_5, v_0_6);\n",
       "  x_stan_0_2 ~ normal(0, 3);\n",
       "  x_stan_0_3 ~ bernoulli_logit(v_0_4);\n",
       "}\n",
       "\n",
       "make -C /home/jovyan/stochaskell/cmdstan /home/jovyan/stochaskell/cache/stan/model_d5e39b725ce29e2903feda152dcf4aa3601a40d5\n",
       "make: Entering directory '/home/jovyan/stochaskell/cmdstan'\n",
       "\n",
       "--- Translating Stan model to C++ code ---\n",
       "bin/stanc  /home/jovyan/stochaskell/cache/stan/model_d5e39b725ce29e2903feda152dcf4aa3601a40d5.stan --o=/home/jovyan/stochaskell/cache/stan/model_d5e39b725ce29e2903feda152dcf4aa3601a40d5.hpp\n",
       "Model name=model_d5e39b725ce29e2903feda152dcf4aa3601a40d5_model\n",
       "Input file=/home/jovyan/stochaskell/cache/stan/model_d5e39b725ce29e2903feda152dcf4aa3601a40d5.stan\n",
       "Output file=/home/jovyan/stochaskell/cache/stan/model_d5e39b725ce29e2903feda152dcf4aa3601a40d5.hpp\n",
       "\n",
       "--- Linking C++ model ---\n",
       "g++ -I src -I stan/src -isystem stan/lib/stan_math/ -isystem stan/lib/stan_math/lib/eigen_3.3.3 -isystem stan/lib/stan_math/lib/boost_1.62.0 -isystem stan/lib/stan_math/lib/cvodes_2.9.0/include -Wall -DEIGEN_NO_DEBUG  -DBOOST_RESULT_OF_USE_TR1 -DBOOST_NO_DECLTYPE -DBOOST_DISABLE_ASSERTS -DFUSION_MAX_VECTOR_SIZE=12 -DNO_FPRINTF_OUTPUT -pipe   -lpthread  -O3 -o /home/jovyan/stochaskell/cache/stan/model_d5e39b725ce29e2903feda152dcf4aa3601a40d5 src/cmdstan/main.cpp -include /home/jovyan/stochaskell/cache/stan/model_d5e39b725ce29e2903feda152dcf4aa3601a40d5.hpp stan/lib/stan_math/lib/cvodes_2.9.0/lib/libsundials_nvecserial.a stan/lib/stan_math/lib/cvodes_2.9.0/lib/libsundials_cvodes.a \n",
       "make: Leaving directory '/home/jovyan/stochaskell/cmdstan'\n",
       "--- Sampling Stan model ---\n",
       "/home/jovyan/stochaskell/cache/stan/model_d5e39b725ce29e2903feda152dcf4aa3601a40d5 method=sample num_samples=250 num_warmup=250 save_warmup=0 thin=1 adapt engaged=1 algorithm=hmc engine=nuts max_depth=10 metric=diag_e stepsize=1.0 stepsize_jitter=0.0 data file=/tmp/stan14/stan.data init=0 output file=/tmp/stan14/stan.csv\n",
       "method = sample (Default)\n",
       "  sample\n",
       "    num_samples = 250\n",
       "    num_warmup = 250\n",
       "    save_warmup = 0 (Default)\n",
       "    thin = 1 (Default)\n",
       "    adapt\n",
       "      engaged = 1 (Default)\n",
       "      gamma = 0.050000000000000003 (Default)\n",
       "      delta = 0.80000000000000004 (Default)\n",
       "      kappa = 0.75 (Default)\n",
       "      t0 = 10 (Default)\n",
       "      init_buffer = 75 (Default)\n",
       "      term_buffer = 50 (Default)\n",
       "      window = 25 (Default)\n",
       "    algorithm = hmc (Default)\n",
       "      hmc\n",
       "        engine = nuts (Default)\n",
       "          nuts\n",
       "            max_depth = 10 (Default)\n",
       "        metric = diag_e (Default)\n",
       "        stepsize = 1 (Default)\n",
       "        stepsize_jitter = 0 (Default)\n",
       "id = 0 (Default)\n",
       "data\n",
       "  file = /tmp/stan14/stan.data\n",
       "init = 0\n",
       "random\n",
       "  seed = 3560454708\n",
       "output\n",
       "  file = /tmp/stan14/stan.csv\n",
       "  diagnostic_file =  (Default)\n",
       "  refresh = 100 (Default)\n",
       "\n",
       "\n",
       "Gradient evaluation took 0.000155 seconds\n",
       "1000 transitions using 10 leapfrog steps per transition would take 1.55 seconds.\n",
       "Adjust your expectations accordingly!\n",
       "\n",
       "\n",
       "Iteration:   1 / 500 [  0%]  (Warmup)\n",
       "Iteration: 100 / 500 [ 20%]  (Warmup)\n",
       "Iteration: 200 / 500 [ 40%]  (Warmup)\n",
       "Iteration: 251 / 500 [ 50%]  (Sampling)\n",
       "Iteration: 350 / 500 [ 70%]  (Sampling)\n",
       "Iteration: 450 / 500 [ 90%]  (Sampling)\n",
       "Iteration: 500 / 500 [100%]  (Sampling)\n",
       "\n",
       " Elapsed Time: 14.8419 seconds (Warm-up)\n",
       "               21.8888 seconds (Sampling)\n",
       "               36.7307 seconds (Total)\n",
       "\n",
       "Extracting: x_stan_0_1, x_stan_0_2\n",
       "--- Removing temporary files ---"
      ]
     },
     "metadata": {},
     "output_type": "display_data"
    }
   ],
   "source": [
    "samples <- hmcStan 250 [ (w,b) | (x,w,b,y) <- logreg n d, x == xData, y == yData ]"
   ]
  },
  {
   "cell_type": "code",
   "execution_count": 5,
   "metadata": {},
   "outputs": [
    {
     "data": {
      "text/plain": [
       "([1.0427378640000002,1.976941208],-0.8679887320000002)"
      ]
     },
     "metadata": {},
     "output_type": "display_data"
    }
   ],
   "source": [
    "let (ws,bs) = unzip samples\n",
    "(mean ws, mean bs)"
   ]
  }
 ],
 "metadata": {
  "kernelspec": {
   "display_name": "Haskell",
   "language": "haskell",
   "name": "haskell"
  },
  "language_info": {
   "codemirror_mode": "ihaskell",
   "file_extension": ".hs",
   "name": "haskell",
   "pygments_lexer": "Haskell",
   "version": "8.2.2"
  }
 },
 "nbformat": 4,
 "nbformat_minor": 2
}
